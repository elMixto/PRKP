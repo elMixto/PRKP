{
 "cells": [
  {
   "cell_type": "code",
   "execution_count": 1,
   "metadata": {},
   "outputs": [],
   "source": [
    "from src.data_structures import Instance\n",
    "from src.data_structures.features import *\n",
    "from random import randint\n",
    "import numpy as np\n",
    "from pathlib import Path"
   ]
  },
  {
   "cell_type": "code",
   "execution_count": 2,
   "metadata": {},
   "outputs": [],
   "source": [
    "evaluation_data = Path(\"training_data\")\n",
    "features: list[ItemBatchFeature] = [\n",
    "            ProfitOverBudget(),LowerCostOverBudget(),\n",
    "            UpperCostOverBudget(),IsInContSol(),\n",
    "            #CountPSynergiesOverNItems(),CountPSynergiesOverBudget(),\n",
    "            GammaOverNItems(),\n",
    "            #SumOfSynergiesByItemOverMaxSinergyProfit(),\n",
    "            Noise(),IsInOptSol()\n",
    "            ]"
   ]
  },
  {
   "cell_type": "code",
   "execution_count": 3,
   "metadata": {},
   "outputs": [
    {
     "name": "stdout",
     "output_type": "stream",
     "text": [
      "Set parameter Username\n",
      "Academic license - for non-commercial use only - expires 2024-07-21\n",
      "\n",
      "Interrupt request received\n"
     ]
    }
   ],
   "source": [
    "for i in range(100):\n",
    "    for n in [100 + 100*i for i in range(15)]:\n",
    "        instance = Instance.generate(int(n),randint(n//2,n-1))\n",
    "        for feature in features:\n",
    "            instance.get_feature(feature)\n",
    "        instance.save(evaluation_data)\n",
    "    "
   ]
  }
 ],
 "metadata": {
  "kernelspec": {
   "display_name": "Python 3",
   "language": "python",
   "name": "python3"
  },
  "language_info": {
   "codemirror_mode": {
    "name": "ipython",
    "version": 3
   },
   "file_extension": ".py",
   "mimetype": "text/x-python",
   "name": "python",
   "nbconvert_exporter": "python",
   "pygments_lexer": "ipython3",
   "version": "3.11.6"
  }
 },
 "nbformat": 4,
 "nbformat_minor": 2
}
