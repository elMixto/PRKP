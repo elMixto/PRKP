{
 "cells": [
  {
   "cell_type": "code",
   "execution_count": 41,
   "metadata": {},
   "outputs": [],
   "source": [
    "from src.data_structures import Instance\n",
    "from src.Gurobi import gurobi,SolverConfig,VAR_TYPE\n",
    "from src.solvers import ZeroReductor\n",
    "import numpy as np\n",
    "from pathlib import Path"
   ]
  },
  {
   "cell_type": "code",
   "execution_count": 42,
   "metadata": {},
   "outputs": [],
   "source": [
    "instance = Instance.from_file(Path(\"baldo_test_data\")/\"S_900_362_5667.393.json\")\n",
    "instance = Instance.generate(3000,1000)"
   ]
  },
  {
   "cell_type": "code",
   "execution_count": 43,
   "metadata": {},
   "outputs": [],
   "source": [
    "#optimal = gurobi(instance,solver_config=SolverConfig.optimal())\n",
    "#optimal"
   ]
  },
  {
   "cell_type": "code",
   "execution_count": 44,
   "metadata": {},
   "outputs": [
    {
     "name": "stdout",
     "output_type": "stream",
     "text": [
      "2138\n",
      "tensor(0.0069)\n",
      "2089\n",
      "tensor(0.0094)\n",
      "2086\n",
      "tensor(0.0096)\n",
      "2085\n",
      "tensor(0.0096)\n",
      "2138\n",
      "tensor(0.0069)\n",
      "1931\n",
      "tensor(0.0094)\n",
      "1920\n",
      "tensor(0.0104)\n",
      "1919\n",
      "tensor(0.0105)\n",
      "2138\n",
      "tensor(0.0069)\n",
      "1801\n",
      "tensor(0.0094)\n",
      "1794\n",
      "tensor(0.0112)\n",
      "1794\n",
      "tensor(0.1613)\n",
      "2138\n",
      "tensor(0.0069)\n",
      "1733\n",
      "tensor(0.0094)\n",
      "1730\n",
      "tensor(0.0117)\n",
      "1730\n",
      "tensor(0.2033)\n",
      "2138\n",
      "tensor(0.0069)\n",
      "1692\n",
      "tensor(0.0094)\n",
      "1688\n",
      "tensor(0.2348)\n",
      "1688\n",
      "tensor(0.2631)\n",
      "2138\n",
      "tensor(0.0069)\n",
      "1660\n",
      "tensor(0.0094)\n",
      "1660\n",
      "tensor(0.9887)\n",
      "2138\n",
      "tensor(0.0069)\n",
      "1640\n",
      "tensor(0.0094)\n",
      "1640\n",
      "tensor(0.9888)\n",
      "2138\n",
      "tensor(0.0069)\n",
      "1623\n",
      "tensor(0.0094)\n",
      "1623\n",
      "tensor(0.9890)\n",
      "2138\n",
      "tensor(0.0069)\n",
      "1607\n",
      "tensor(0.0094)\n",
      "1607\n",
      "tensor(0.9891)\n",
      "2138\n",
      "tensor(0.0069)\n",
      "1595\n",
      "tensor(0.0094)\n",
      "1595\n",
      "tensor(0.9892)\n"
     ]
    },
    {
     "data": {
      "text/plain": [
       "[Sol(of:104876.2772201218,time:55.985743045806885),\n",
       " Sol(of:104614.57355281278,time:31.31729030609131),\n",
       " Sol(of:104129.54801159096,time:21.100086212158203),\n",
       " Sol(of:103295.2658143461,time:10.104101657867432),\n",
       " Sol(of:102561.48090845396,time:6.131115198135376),\n",
       " Sol(of:101571.48917498694,time:4.873724460601807),\n",
       " Sol(of:100633.34794234703,time:4.654337167739868),\n",
       " Sol(of:99927.31700874529,time:4.568382501602173),\n",
       " Sol(of:98967.22436845921,time:4.55725359916687),\n",
       " Sol(of:98180.4068362824,time:4.6027374267578125)]"
      ]
     },
     "execution_count": 44,
     "metadata": {},
     "output_type": "execute_result"
    }
   ],
   "source": [
    "[ZeroReductor.solve(instance,pred_threshold = 0.05*i,verbose=True) for i in range(1,11)]\n"
   ]
  },
  {
   "cell_type": "code",
   "execution_count": 45,
   "metadata": {},
   "outputs": [
    {
     "data": {
      "text/plain": [
       "49.97965671472146"
      ]
     },
     "execution_count": 45,
     "metadata": {},
     "output_type": "execute_result"
    }
   ],
   "source": [
    "((optimal.o - z.o) / optimal.o)*100"
   ]
  }
 ],
 "metadata": {
  "kernelspec": {
   "display_name": "Python 3",
   "language": "python",
   "name": "python3"
  },
  "language_info": {
   "codemirror_mode": {
    "name": "ipython",
    "version": 3
   },
   "file_extension": ".py",
   "mimetype": "text/x-python",
   "name": "python",
   "nbconvert_exporter": "python",
   "pygments_lexer": "ipython3",
   "version": "3.11.6"
  }
 },
 "nbformat": 4,
 "nbformat_minor": 2
}
