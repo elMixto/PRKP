{
 "cells": [
  {
   "cell_type": "code",
   "execution_count": 1,
   "metadata": {},
   "outputs": [],
   "source": [
    "from src.data_structures.Instance import Instance\n",
    "from src.data_structures.features import *\n",
    "from src.solvers.collection import SolverCollection\n",
    "import torch\n",
    "from torch import nn\n",
    "import os\n",
    "from pathlib import Path\n",
    "import sys\n",
    "torch.set_default_tensor_type(torch.DoubleTensor)\n"
   ]
  },
  {
   "cell_type": "code",
   "execution_count": 2,
   "metadata": {},
   "outputs": [],
   "source": [
    "#Generate training data\n",
    "instances = [Instance.generate(1000,10)]\n"
   ]
  },
  {
   "cell_type": "code",
   "execution_count": 3,
   "metadata": {},
   "outputs": [],
   "source": [
    "def encode_bool_vec(a):\n",
    "    indices = a.nonzero()\n",
    "    a-= 1\n",
    "    indices.T[0]\n",
    "    a[indices] = 1\n",
    "    return a\n",
    "\n",
    "def decode_bool_vec(a):\n",
    "    a = a +  1\n",
    "    indices = a.nonzero()\n",
    "    a[indices] = 1\n",
    "    return a//2\n",
    "\n",
    "\n",
    "max_size = 1500\n",
    "training_data_folder = Path(\"training_data\")\n",
    "\n",
    "get_y = lambda instance,sol: expand_vector(torch.tensor(sol),instance)"
   ]
  },
  {
   "cell_type": "code",
   "execution_count": 4,
   "metadata": {},
   "outputs": [],
   "source": [
    "#Features\n",
    "#Debo generar un vector x por cada feature, y cada vector x debe expandirse,\n",
    "#y luego concatenar todos los vectores x expandidos por lo que la dimension de entrada\n",
    "#sera #features*n_items.\n",
    "\n",
    "#Esto se hace por cada instancia\n",
    "\n",
    "features: list[ItemBatchFeature] = [\n",
    "    #Budget(),\n",
    "    #ProfitOverBudget(),\n",
    "    #LowerCostOverBudget(),\n",
    "    #UpperCostOverBudget(),\n",
    "    IsInContSol(),\n",
    "    ]\n",
    "\n",
    "def gen_x(features: list[ItemBatchFeature],instance: Instance):\n",
    "    evaluated_features = []\n",
    "    for feature in features:\n",
    "        x_feature = torch.tensor(feature.batch_evaluate(instance))\n",
    "        x_feature = expand_vector(x_feature,instance)\n",
    "        evaluated_features.append(x_feature)\n",
    "    return torch.cat(evaluated_features)"
   ]
  },
  {
   "cell_type": "code",
   "execution_count": 5,
   "metadata": {},
   "outputs": [],
   "source": [
    "class Net(nn.Module):\n",
    "    def __init__(self, entrada,salida):\n",
    "        super(Net, self).__init__()\n",
    "\n",
    "        hidden_size = 200\n",
    "\n",
    "        self.many = nn.Sequential(\n",
    "            nn.Linear(entrada, hidden_size),\n",
    "            nn.Linear(hidden_size,hidden_size),\n",
    "            nn.Linear(hidden_size,salida),\n",
    "            nn.Tanh()\n",
    "        )\n",
    "\n",
    "    def forward(self, x):   \n",
    "        x = self.many(x)\n",
    "        return x"
   ]
  },
  {
   "cell_type": "code",
   "execution_count": 6,
   "metadata": {},
   "outputs": [],
   "source": [
    "\n",
    "net = Net(len(features)*max_size,max_size)\n",
    "criterion = nn.L1Loss()\n",
    "learning_rate = 0.01\n",
    "optimizer = torch.optim.SGD(net.parameters(), lr=learning_rate)"
   ]
  },
  {
   "cell_type": "code",
   "execution_count": 7,
   "metadata": {},
   "outputs": [
    {
     "name": "stdout",
     "output_type": "stream",
     "text": [
      "Set parameter Username\n",
      "Academic license - for non-commercial use only - expires 2024-07-21\n"
     ]
    },
    {
     "name": "stderr",
     "output_type": "stream",
     "text": [
      "/tmp/ipykernel_38996/473449160.py:19: UserWarning: To copy construct from a tensor, it is recommended to use sourceTensor.clone().detach() or sourceTensor.clone().detach().requires_grad_(True), rather than torch.tensor(sourceTensor).\n",
      "  x_feature = torch.tensor(feature.batch_evaluate(instance))\n"
     ]
    },
    {
     "ename": "NameError",
     "evalue": "name 'expand_vector' is not defined",
     "output_type": "error",
     "traceback": [
      "\u001b[0;31m---------------------------------------------------------------------------\u001b[0m",
      "\u001b[0;31mNameError\u001b[0m                                 Traceback (most recent call last)",
      "\u001b[1;32m/home/mixto/repositories/PRKP/full_solver.ipynb Cell 7\u001b[0m line \u001b[0;36m5\n\u001b[1;32m      <a href='vscode-notebook-cell://ssh-remote%2Bcamile-laptop/home/mixto/repositories/PRKP/full_solver.ipynb#W5sdnNjb2RlLXJlbW90ZQ%3D%3D?line=2'>3</a>\u001b[0m optimizer\u001b[39m.\u001b[39mzero_grad()\n\u001b[1;32m      <a href='vscode-notebook-cell://ssh-remote%2Bcamile-laptop/home/mixto/repositories/PRKP/full_solver.ipynb#W5sdnNjb2RlLXJlbW90ZQ%3D%3D?line=3'>4</a>\u001b[0m total_loss \u001b[39m=\u001b[39m \u001b[39m0\u001b[39m\n\u001b[0;32m----> <a href='vscode-notebook-cell://ssh-remote%2Bcamile-laptop/home/mixto/repositories/PRKP/full_solver.ipynb#W5sdnNjb2RlLXJlbW90ZQ%3D%3D?line=4'>5</a>\u001b[0m x \u001b[39m=\u001b[39m gen_x(features,instance)\n\u001b[1;32m      <a href='vscode-notebook-cell://ssh-remote%2Bcamile-laptop/home/mixto/repositories/PRKP/full_solver.ipynb#W5sdnNjb2RlLXJlbW90ZQ%3D%3D?line=5'>6</a>\u001b[0m y_pred \u001b[39m=\u001b[39m net(x)\n\u001b[1;32m      <a href='vscode-notebook-cell://ssh-remote%2Bcamile-laptop/home/mixto/repositories/PRKP/full_solver.ipynb#W5sdnNjb2RlLXJlbW90ZQ%3D%3D?line=6'>7</a>\u001b[0m batch_loss \u001b[39m=\u001b[39m criterion(y_pred,encode_bool_vec(get_y(instance,instance\u001b[39m.\u001b[39moptimal_solution)) )\n",
      "\u001b[1;32m/home/mixto/repositories/PRKP/full_solver.ipynb Cell 7\u001b[0m line \u001b[0;36m2\n\u001b[1;32m     <a href='vscode-notebook-cell://ssh-remote%2Bcamile-laptop/home/mixto/repositories/PRKP/full_solver.ipynb#W5sdnNjb2RlLXJlbW90ZQ%3D%3D?line=17'>18</a>\u001b[0m \u001b[39mfor\u001b[39;00m feature \u001b[39min\u001b[39;00m features:\n\u001b[1;32m     <a href='vscode-notebook-cell://ssh-remote%2Bcamile-laptop/home/mixto/repositories/PRKP/full_solver.ipynb#W5sdnNjb2RlLXJlbW90ZQ%3D%3D?line=18'>19</a>\u001b[0m     x_feature \u001b[39m=\u001b[39m torch\u001b[39m.\u001b[39mtensor(feature\u001b[39m.\u001b[39mbatch_evaluate(instance))\n\u001b[0;32m---> <a href='vscode-notebook-cell://ssh-remote%2Bcamile-laptop/home/mixto/repositories/PRKP/full_solver.ipynb#W5sdnNjb2RlLXJlbW90ZQ%3D%3D?line=19'>20</a>\u001b[0m     x_feature \u001b[39m=\u001b[39m expand_vector(x_feature,instance)\n\u001b[1;32m     <a href='vscode-notebook-cell://ssh-remote%2Bcamile-laptop/home/mixto/repositories/PRKP/full_solver.ipynb#W5sdnNjb2RlLXJlbW90ZQ%3D%3D?line=20'>21</a>\u001b[0m     evaluated_features\u001b[39m.\u001b[39mappend(x_feature)\n\u001b[1;32m     <a href='vscode-notebook-cell://ssh-remote%2Bcamile-laptop/home/mixto/repositories/PRKP/full_solver.ipynb#W5sdnNjb2RlLXJlbW90ZQ%3D%3D?line=21'>22</a>\u001b[0m \u001b[39mreturn\u001b[39;00m torch\u001b[39m.\u001b[39mcat(evaluated_features)\n",
      "\u001b[0;31mNameError\u001b[0m: name 'expand_vector' is not defined"
     ]
    }
   ],
   "source": [
    "#Training\n",
    "for i,instance in enumerate(instances):\n",
    "    optimizer.zero_grad()\n",
    "    total_loss = 0\n",
    "    x = gen_x(features,instance)\n",
    "    y_pred = net(x)\n",
    "    batch_loss = criterion(y_pred,encode_bool_vec(get_y(instance,instance.optimal_solution)) )\n",
    "    batch_loss.backward()\n",
    "    optimizer.step()\n",
    "    total_loss += batch_loss.item()\n",
    "    sys.stdout.write(f'\\rEpoch {instance}, CorrectedLoss {total_loss}')\n",
    "    sys.stdout.flush()\n"
   ]
  },
  {
   "cell_type": "code",
   "execution_count": null,
   "metadata": {},
   "outputs": [],
   "source": [
    "test_instance = Instance.generate(1500,50)\n",
    "solution = SolverCollection.gurobi_optimal(test_instance)"
   ]
  },
  {
   "cell_type": "code",
   "execution_count": null,
   "metadata": {},
   "outputs": [],
   "source": [
    "with torch.no_grad():\n",
    "    test_x = gen_x(features,test_instance)\n",
    "    test_y = net(test_x)"
   ]
  },
  {
   "cell_type": "code",
   "execution_count": null,
   "metadata": {},
   "outputs": [
    {
     "name": "stdout",
     "output_type": "stream",
     "text": [
      "tensor(1.4542)\n"
     ]
    }
   ],
   "source": [
    "with torch.no_grad():\n",
    "    loss = criterion(test_y,expand_vector(torch.tensor(solution.sol),test_instance))\n",
    "    print(loss)"
   ]
  }
 ],
 "metadata": {
  "kernelspec": {
   "display_name": "Python 3",
   "language": "python",
   "name": "python3"
  },
  "language_info": {
   "codemirror_mode": {
    "name": "ipython",
    "version": 3
   },
   "file_extension": ".py",
   "mimetype": "text/x-python",
   "name": "python",
   "nbconvert_exporter": "python",
   "pygments_lexer": "ipython3",
   "version": "3.11.5"
  },
  "orig_nbformat": 4
 },
 "nbformat": 4,
 "nbformat_minor": 2
}
