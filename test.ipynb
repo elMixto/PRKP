{
 "cells": [
  {
   "cell_type": "code",
   "execution_count": 8,
   "metadata": {},
   "outputs": [],
   "source": [
    "from src.data_structures import Instance\n",
    "from src.Gurobi import gurobi,SolverConfig,VAR_TYPE\n",
    "from random import randint\n",
    "from src.solvers import ZeroReductor\n",
    "from src.solvers import ZeroReductor2\n",
    "from src.solvers import BaldoGA\n",
    "from src.solvers import BaldoML\n",
    "from pathlib import Path\n",
    "import torch\n",
    "big_instances_path = Path(\"big_instances\")\n",
    "import cProfile"
   ]
  },
  {
   "cell_type": "markdown",
   "metadata": {},
   "source": []
  },
  {
   "cell_type": "code",
   "execution_count": 32,
   "metadata": {},
   "outputs": [],
   "source": [
    "example_instance = Instance(\n",
    "    3,2,10,\n",
    "    torch.tensor([3,6,10]),\n",
    "    torch.tensor([[2,4],[3,4],[4,5]]),\n",
    "    {\"(0,1)\":-2,\"(0,2)\":2,\"(1,2)\":2,\"(0,1,2)\":3},features=[])\n"
   ]
  },
  {
   "cell_type": "code",
   "execution_count": 33,
   "metadata": {},
   "outputs": [
    {
     "name": "stdout",
     "output_type": "stream",
     "text": [
      "Sol(of:9.0,time:0.00118255615234375) [0.0, 1.0, 1.0]\n"
     ]
    }
   ],
   "source": [
    "solution = gurobi(example_instance,SolverConfig.optimal())\n",
    "print(solution,solution.sol)"
   ]
  },
  {
   "cell_type": "code",
   "execution_count": 35,
   "metadata": {},
   "outputs": [
    {
     "data": {
      "text/plain": [
       "6.0"
      ]
     },
     "execution_count": 35,
     "metadata": {},
     "output_type": "execute_result"
    }
   ],
   "source": [
    "example_instance.evaluate([1,0,1])"
   ]
  }
 ],
 "metadata": {
  "kernelspec": {
   "display_name": "Python 3",
   "language": "python",
   "name": "python3"
  },
  "language_info": {
   "codemirror_mode": {
    "name": "ipython",
    "version": 3
   },
   "file_extension": ".py",
   "mimetype": "text/x-python",
   "name": "python",
   "nbconvert_exporter": "python",
   "pygments_lexer": "ipython3",
   "version": "3.11.6"
  }
 },
 "nbformat": 4,
 "nbformat_minor": 2
}
