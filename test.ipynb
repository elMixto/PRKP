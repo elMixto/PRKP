{
 "cells": [
  {
   "cell_type": "code",
   "execution_count": 5,
   "metadata": {},
   "outputs": [],
   "source": [
    "from src.data_structures import Instance\n",
    "from src.data_structures.features import *\n",
    "from src.data_structures import Instance"
   ]
  },
  {
   "cell_type": "code",
   "execution_count": 4,
   "metadata": {},
   "outputs": [
    {
     "data": {
      "text/plain": [
       "tensor([0.5440, 0.3102, 0.2736, 0.3307, 0.3453, 0.1864, 0.2656, 0.8785, 0.1969,\n",
       "        0.0483, 0.0569, 0.4372, 0.9834, 0.5283, 0.7912, 0.3713, 0.5705, 0.4454,\n",
       "        0.7873, 0.1313, 0.6543, 0.1342, 0.1505, 0.2155, 0.7807, 0.8343, 0.7810,\n",
       "        0.8788, 0.7208, 0.5974, 0.1194, 0.5309, 0.5017, 0.5045, 0.4141, 0.8489,\n",
       "        0.5998, 0.9241, 0.9846, 0.2933, 0.4730, 0.9379, 0.7340, 0.9968, 0.5759,\n",
       "        0.3622, 0.2878, 0.3089, 0.5587, 0.4127, 0.4779, 0.4325, 0.1153, 0.7522,\n",
       "        0.7057, 0.9404, 0.4728, 0.5540, 0.3489, 0.3530, 0.3034, 0.7121, 0.2502,\n",
       "        0.8801, 0.3681, 0.2731, 0.2204, 0.3579, 0.0280, 0.3611, 0.6364, 0.8220,\n",
       "        0.2989, 0.3442, 0.1082, 0.9907, 0.2298, 0.5214, 0.5999, 0.0259, 0.2125,\n",
       "        0.5084, 0.5329, 0.6362, 0.8713, 0.1232, 0.2320, 0.5072, 0.4887, 0.5043,\n",
       "        0.7110, 0.8265, 0.8359, 0.5774, 0.7163, 0.8916, 0.7433, 0.7063, 0.4968,\n",
       "        0.8880])"
      ]
     },
     "execution_count": 4,
     "metadata": {},
     "output_type": "execute_result"
    }
   ],
   "source": [
    "instance = Instance.generate(100,10)\n",
    "o_instance = instance\n",
    "instance.get_feature(NOverON(o_instance))\n",
    "\n"
   ]
  },
  {
   "cell_type": "markdown",
   "metadata": {},
   "source": []
  }
 ],
 "metadata": {
  "kernelspec": {
   "display_name": "Python 3",
   "language": "python",
   "name": "python3"
  },
  "language_info": {
   "codemirror_mode": {
    "name": "ipython",
    "version": 3
   },
   "file_extension": ".py",
   "mimetype": "text/x-python",
   "name": "python",
   "nbconvert_exporter": "python",
   "pygments_lexer": "ipython3",
   "version": "3.11.5"
  },
  "orig_nbformat": 4
 },
 "nbformat": 4,
 "nbformat_minor": 2
}
