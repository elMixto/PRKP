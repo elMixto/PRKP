{
 "cells": [
  {
   "cell_type": "code",
   "execution_count": 16,
   "metadata": {},
   "outputs": [],
   "source": [
    "from src.data_structures.instance import Instance\n",
    "from src.solvers.ZeroReductor.DLHEU2 import DHEU\n",
    "from src.data_structures.features import *\n",
    "import torch\n",
    "from torch import nn\n",
    "import os\n",
    "from pathlib import Path\n",
    "import sys\n",
    "import numpy as np\n",
    "import sys\n",
    "import pickle\n",
    "from random import shuffle\n",
    "from matplotlib import pyplot as plt\n",
    "torch.set_default_tensor_type(torch.DoubleTensor)"
   ]
  },
  {
   "cell_type": "code",
   "execution_count": 17,
   "metadata": {},
   "outputs": [],
   "source": [
    "def encode_bool_vec(a):\n",
    "    indices = a.nonzero()\n",
    "    a-= 1\n",
    "    indices.T[0]\n",
    "    a[indices] = 1\n",
    "    return a\n",
    "\n",
    "def decode_bool_vec(a):\n",
    "    a = a + 1\n",
    "    return a/2\n",
    "\n",
    "key= lambda x: x.n_items\n",
    "validation_data_folder = Path(\"validation_data\")\n",
    "evaluation_instances = list(iter(map(Instance.from_file,validation_data_folder.iterdir())))\n",
    "evaluation_instances.sort(key=key)"
   ]
  },
  {
   "cell_type": "code",
   "execution_count": 18,
   "metadata": {},
   "outputs": [],
   "source": [
    "features: list[ItemBatchFeature] = [\n",
    "            ProfitOverBudget(),\n",
    "            LowerCostOverBudget(),\n",
    "            UpperCostOverBudget(),\n",
    "            IsInContSol(),\n",
    "            #CountPSynergiesOverNItems(),\n",
    "            #CountPSynergiesOverBudget(),\n",
    "            GammaOverNItems(),\n",
    "            #SumOfSynergiesByItemOverMaxSinergyProfit(),\n",
    "            Noise()\n",
    "            ]\n",
    "heu = DHEU(features)\n",
    "heu.load(Path(\"/home/mixto/repositories/PRKP/src/solvers/ZeroReductor/models/DHEUV2_extended.model\"))"
   ]
  },
  {
   "cell_type": "code",
   "execution_count": 19,
   "metadata": {},
   "outputs": [
    {
     "name": "stdout",
     "output_type": "stream",
     "text": [
      "Presicion 90.147%\n",
      "STD 1.901%\n"
     ]
    },
    {
     "data": {
      "text/plain": [
       "(array([ 4.,  9., 25., 22., 28., 20., 14.,  6.,  3.,  3.]),\n",
       " array([0.05768632, 0.06715976, 0.07663319, 0.08610662, 0.09558005,\n",
       "        0.10505348, 0.11452691, 0.12400034, 0.13347377, 0.1429472 ,\n",
       "        0.15242064]),\n",
       " <BarContainer object of 10 artists>)"
      ]
     },
     "execution_count": 19,
     "metadata": {},
     "output_type": "execute_result"
    },
    {
     "data": {
      "image/png": "[encoded data removed]",
      "text/plain": [
       "<Figure size 640x480 with 1 Axes>"
      ]
     },
     "metadata": {},
     "output_type": "display_data"
    }
   ],
   "source": [
    "losses = []\n",
    "with torch.no_grad():\n",
    "    for instance in evaluation_instances:\n",
    "        x = heu.gen_x(instance).T\n",
    "        y = encode_bool_vec(instance.get_feature(IsInOptSol())).view(-1,1)\n",
    "        if len(y) == 0:\n",
    "            continue\n",
    "        y_pred = heu.net(x)\n",
    "        eval_loss = heu.criterion(y,y_pred)\n",
    "        losses.append(eval_loss)\n",
    "precision = (1-np.average(losses))*100\n",
    "desviacion_estandar = (np.std(losses))*100\n",
    "print(f\"Presicion {np.round(precision,3)}%\")\n",
    "print(f\"STD {np.round(desviacion_estandar,3)}%\")\n",
    "\n",
    "plt.hist(losses)"
   ]
  }
 ],
 "metadata": {
  "kernelspec": {
   "display_name": "Python 3",
   "language": "python",
   "name": "python3"
  },
  "language_info": {
   "codemirror_mode": {
    "name": "ipython",
    "version": 3
   },
   "file_extension": ".py",
   "mimetype": "text/x-python",
   "name": "python",
   "nbconvert_exporter": "python",
   "pygments_lexer": "ipython3",
   "version": "3.11.6"
  }
 },
 "nbformat": 4,
 "nbformat_minor": 2
}
