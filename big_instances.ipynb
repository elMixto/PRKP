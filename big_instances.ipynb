{
 "cells": [
  {
   "cell_type": "code",
   "execution_count": 1,
   "metadata": {},
   "outputs": [
    {
     "name": "stderr",
     "output_type": "stream",
     "text": [
      "/usr/lib/python3.11/site-packages/torch/__init__.py:614: UserWarning: torch.set_default_tensor_type() is deprecated as of PyTorch 2.1, please use torch.set_default_dtype() and torch.set_default_device() as alternatives. (Triggered internally at /build/python-pytorch/src/pytorch-opt/torch/csrc/tensor/python_tensor.cpp:451.)\n",
      "  _C._set_default_tensor_type(t)\n"
     ]
    }
   ],
   "source": [
    "from src.data_structures import Instance\n",
    "from src.solvers import ZeroReductor,BaldoML\n",
    "from random import randint\n",
    "\n",
    "\n"
   ]
  },
  {
   "cell_type": "code",
   "execution_count": 2,
   "metadata": {},
   "outputs": [
    {
     "name": "stdout",
     "output_type": "stream",
     "text": [
      "Instance(20000,2229,#8749148763117)\n",
      "Set parameter Username\n",
      "Academic license - for non-commercial use only - expires 2024-07-21\n",
      "Set parameter TimeLimit to value 600\n",
      "Zero:  Sol(of:652708.6281726733,time:673.2566156387329)\n",
      "Set parameter TimeLimit to value 600\n",
      "Baldo:  Sol(of:651010.7675250052,time:571.9761040210724)\n",
      "Instance(20000,3876,#8749147283237)\n",
      "Set parameter TimeLimit to value 600\n",
      "Zero:  Sol(of:515400.53915103,time:139.398854970932)\n",
      "Set parameter TimeLimit to value 600\n",
      "Baldo:  Sol(of:522387.1457033567,time:607.5036120414734)\n",
      "Instance(20000,2218,#8749147852521)\n",
      "Set parameter TimeLimit to value 600\n",
      "Zero:  Sol(of:811360.6152265959,time:668.5149471759796)\n",
      "Set parameter TimeLimit to value 600\n",
      "Baldo:  Sol(of:809367.9653883575,time:607.3085103034973)\n",
      "Instance(20000,1078,#8749147584233)\n",
      "Set parameter TimeLimit to value 600\n",
      "Zero:  Sol(of:603221.2990866654,time:675.6681506633759)\n",
      "Set parameter TimeLimit to value 600\n",
      "Baldo:  Sol(of:600038.5745763353,time:189.11493563652039)\n",
      "Instance(20000,3925,#8749148278237)\n",
      "Set parameter TimeLimit to value 600\n",
      "Zero:  Sol(of:513814.3180431132,time:131.61823272705078)\n",
      "Set parameter TimeLimit to value 600\n",
      "Baldo:  Sol(of:521759.66810037475,time:607.4360628128052)\n",
      "Instance(20000,2460,#8749142226989)\n",
      "Set parameter TimeLimit to value 600\n",
      "Zero:  Sol(of:552787.1769097034,time:657.9551181793213)\n",
      "Set parameter TimeLimit to value 600\n",
      "Baldo:  Sol(of:553923.3293082473,time:410.5118429660797)\n",
      "Instance(20000,2371,#8749142374789)\n",
      "Set parameter TimeLimit to value 600\n",
      "Zero:  Sol(of:556856.9680930745,time:578.1148130893707)\n",
      "Set parameter TimeLimit to value 600\n",
      "Baldo:  Sol(of:557131.7399385042,time:585.0447170734406)\n",
      "Instance(20000,268,#8749148277933)\n",
      "Set parameter TimeLimit to value 600\n",
      "Zero:  Sol(of:932126.2520850862,time:163.90642189979553)\n",
      "Set parameter TimeLimit to value 600\n",
      "Baldo:  Sol(of:929974.4341003719,time:65.65457534790039)\n",
      "Instance(20000,371,#8749142369261)\n",
      "Set parameter TimeLimit to value 600\n",
      "Zero:  Sol(of:742210.3901356303,time:202.0940809249878)\n",
      "Set parameter TimeLimit to value 600\n",
      "Baldo:  Sol(of:739831.7045197103,time:79.19520282745361)\n",
      "Instance(20000,4323,#8749134602129)\n",
      "Set parameter TimeLimit to value 600\n",
      "\n",
      "Interrupt request received\n",
      "Zero:  Sol(of:734193.1837208433,time:371.2455999851227)\n",
      "Set parameter TimeLimit to value 600\n"
     ]
    }
   ],
   "source": [
    "for instance in (Instance.generate(20000,randint(1,5000)) for i in range(50)):\n",
    "    print(f\"{instance}\")\n",
    "    print(\"Zero: \",ZeroReductor.solve(instance,0.25))\n",
    "    print(\"Baldo: \",BaldoML.solve(instance))"
   ]
  }
 ],
 "metadata": {
  "kernelspec": {
   "display_name": "Python 3",
   "language": "python",
   "name": "python3"
  },
  "language_info": {
   "codemirror_mode": {
    "name": "ipython",
    "version": 3
   },
   "file_extension": ".py",
   "mimetype": "text/x-python",
   "name": "python",
   "nbconvert_exporter": "python",
   "pygments_lexer": "ipython3",
   "version": "3.11.6"
  }
 },
 "nbformat": 4,
 "nbformat_minor": 2
}
