{
 "cells": [
  {
   "cell_type": "code",
   "execution_count": 1,
   "metadata": {},
   "outputs": [
    {
     "name": "stdout",
     "output_type": "stream",
     "text": [
      "Set parameter Username\n",
      "Academic license - for non-commercial use only - expires 2024-07-21\n",
      "Sol(of:230.46295624942746,time:0.003818511962890625)\n"
     ]
    },
    {
     "name": "stderr",
     "output_type": "stream",
     "text": [
      "/usr/lib/python3.11/site-packages/torch/__init__.py:614: UserWarning: torch.set_default_tensor_type() is deprecated as of PyTorch 2.1, please use torch.set_default_dtype() and torch.set_default_device() as alternatives. (Triggered internally at /build/python-pytorch/src/pytorch-opt/torch/csrc/tensor/python_tensor.cpp:451.)\n",
      "  _C._set_default_tensor_type(t)\n"
     ]
    }
   ],
   "source": [
    "from src.data_structures import Instance\n",
    "from src.Gurobi import gurobi,SolverConfig\n",
    "from src.solvers.ZeroReductor2.zinstance import ZeroInstance\n",
    "from src.solvers import ZeroReductor\n",
    "from src.solvers import ZeroReductor2\n",
    "from src.solvers import BaldoGA,BaldoML\n",
    "\n",
    "\n",
    "\n",
    "instance = Instance.generate(10,1,10)\n",
    "print(gurobi(instance,solver_config=SolverConfig.optimal()))"
   ]
  },
  {
   "cell_type": "code",
   "execution_count": 2,
   "metadata": {},
   "outputs": [
    {
     "name": "stdout",
     "output_type": "stream",
     "text": [
      "Set parameter TimeLimit to value 600\n"
     ]
    },
    {
     "data": {
      "text/plain": [
       "Sol(of:230.46295624942746,time:0.005977153778076172)"
      ]
     },
     "execution_count": 2,
     "metadata": {},
     "output_type": "execute_result"
    }
   ],
   "source": [
    "BaldoMl.solve(instance)"
   ]
  },
  {
   "cell_type": "code",
   "execution_count": 3,
   "metadata": {},
   "outputs": [
    {
     "name": "stdout",
     "output_type": "stream",
     "text": [
      "Set parameter TimeLimit to value 600\n"
     ]
    },
    {
     "data": {
      "text/plain": [
       "Sol(of:230.46295624942746,time:0.00506138801574707)"
      ]
     },
     "execution_count": 3,
     "metadata": {},
     "output_type": "execute_result"
    }
   ],
   "source": [
    "#Falta reconstruir las sinergias polinomiales para la reduccion final\n",
    "ZeroReductor2.solve(instance)"
   ]
  }
 ],
 "metadata": {
  "kernelspec": {
   "display_name": "Python 3",
   "language": "python",
   "name": "python3"
  },
  "language_info": {
   "codemirror_mode": {
    "name": "ipython",
    "version": 3
   },
   "file_extension": ".py",
   "mimetype": "text/x-python",
   "name": "python",
   "nbconvert_exporter": "python",
   "pygments_lexer": "ipython3",
   "version": "3.11.6"
  }
 },
 "nbformat": 4,
 "nbformat_minor": 2
}
