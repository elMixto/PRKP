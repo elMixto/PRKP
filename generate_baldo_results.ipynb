{
 "cells": [
  {
   "cell_type": "code",
   "execution_count": 1,
   "metadata": {},
   "outputs": [
    {
     "name": "stderr",
     "output_type": "stream",
     "text": [
      "/usr/lib/python3.11/site-packages/torch/__init__.py:614: UserWarning: torch.set_default_tensor_type() is deprecated as of PyTorch 2.1, please use torch.set_default_dtype() and torch.set_default_device() as alternatives. (Triggered internally at /build/python-pytorch/src/pytorch-opt/torch/csrc/tensor/python_tensor.cpp:451.)\n",
      "  _C._set_default_tensor_type(t)\n"
     ]
    }
   ],
   "source": [
    "from pathlib import Path\n",
    "import json\n",
    "from src.data_structures import Instance\n",
    "from src.solvers import ZeroReductor,BaldoML,BaldoGA\n",
    "from random import shuffle\n",
    "import pandas as pd\n",
    "from src.Gurobi import gurobi,SolverConfig,VAR_TYPE\n",
    "from IPython.display import clear_output\n",
    "import os"
   ]
  },
  {
   "cell_type": "code",
   "execution_count": 2,
   "metadata": {},
   "outputs": [],
   "source": [
    "baldo_data_path = Path(\"baldo_test_data\")\n",
    "results_path = Path(\"results\")"
   ]
  },
  {
   "cell_type": "code",
   "execution_count": 3,
   "metadata": {},
   "outputs": [],
   "source": [
    "instances = []\n",
    "for file in baldo_data_path.iterdir():\n",
    "    instance = Instance.from_file(file)\n",
    "    instance.name = file.name\n",
    "    instances.append(instance)\n",
    "instances.sort(key=lambda x: x.n_items,reverse=False)"
   ]
  },
  {
   "cell_type": "code",
   "execution_count": 4,
   "metadata": {},
   "outputs": [
    {
     "name": "stdout",
     "output_type": "stream",
     "text": [
      "Set parameter TimeLimit to value 600\n"
     ]
    }
   ],
   "source": [
    "solved_files = list(results_path.iterdir())    \n",
    "for i,instance in enumerate(instances):\n",
    "    if results_path/instance.name in solved_files:\n",
    "            continue\n",
    "    baldo_ml = BaldoML.solve(instance)\n",
    "    baldo_ga = BaldoGA.solve(instance)\n",
    "    gurobi_sol = gurobi(instance,SolverConfig(VAR_TYPE.BINARY,heuristic=False,indexes=[],time_limit=600))\n",
    "    print(\"BML: \" , baldo_ml)\n",
    "    print(\"BGA: \" , baldo_ga)\n",
    "    print(\"Gurobi: \" , gurobi_sol)\n",
    "    print(instance)\n",
    "    print(i/len(instances))\n",
    "    clear_output(True)\n",
    "    fila = {'name': instance.name,\n",
    "            \"BaldoML_of\": baldo_ml.o,\n",
    "            \"BaldoML_time\": baldo_ml.time,\n",
    "            \"BaldoGA_of\": baldo_ga.o,\n",
    "            \"BaldoGA_time\": baldo_ga.time,\n",
    "            \"Solver_of\": gurobi_sol.o,\n",
    "            \"Solver_time\": gurobi_sol.time\n",
    "            }\n",
    "    save_file = open(results_path/instance.name,\"w\")\n",
    "    json.dump(fila,save_file)\n",
    "    save_file.close()\n"
   ]
  }
 ],
 "metadata": {
  "kernelspec": {
   "display_name": "Python 3",
   "language": "python",
   "name": "python3"
  },
  "language_info": {
   "codemirror_mode": {
    "name": "ipython",
    "version": 3
   },
   "file_extension": ".py",
   "mimetype": "text/x-python",
   "name": "python",
   "nbconvert_exporter": "python",
   "pygments_lexer": "ipython3",
   "version": "3.11.6"
  }
 },
 "nbformat": 4,
 "nbformat_minor": 2
}
