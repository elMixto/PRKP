{
 "cells": [
  {
   "cell_type": "code",
   "execution_count": 9,
   "metadata": {},
   "outputs": [],
   "source": [
    "from pathlib import Path\n",
    "from math import floor,log10\n",
    "import json\n",
    "from src.data_structures import Instance\n",
    "from matplotlib import pyplot as plt\n",
    "import numpy as np\n",
    "from itertools import groupby\n",
    "def round_sig(x, sig=2):\n",
    "    return round(x, sig-int(floor(log10(abs(x))))-1)"
   ]
  },
  {
   "cell_type": "code",
   "execution_count": 10,
   "metadata": {},
   "outputs": [],
   "source": [
    "#Cargo las instancias, y los resultados desde cada carpeta, y los combino\n",
    "results_path = Path(\"final_results\")\n",
    "baldo_data_path = Path(\"baldo_test_data\")\n",
    "files = results_path.iterdir()\n",
    "names_to_use = [file.name for file in files]\n",
    "instances = [] \n",
    "for file in names_to_use:\n",
    "    instance = Instance.from_file(baldo_data_path/file)\n",
    "    instance.file_name = file\n",
    "    instances.append(instance)\n",
    "    result = open(results_path/instance.file_name,\"r\")\n",
    "    result_data = json.load(result)\n",
    "    result.close()\n",
    "    instance.result = result_data\n",
    "instances.sort(key=lambda x: x.n_items)"
   ]
  },
  {
   "cell_type": "code",
   "execution_count": 11,
   "metadata": {},
   "outputs": [
    {
     "data": {
      "image/png": "[encoded data removed]",
      "text/plain": [
       "<Figure size 640x480 with 1 Axes>"
      ]
     },
     "metadata": {},
     "output_type": "display_data"
    }
   ],
   "source": [
    "a = groupby(instances,key=lambda ins: ins.n_items)\n",
    "todo = []\n",
    "for key,group in a:\n",
    "    points = [instance.result['Solver_time'] for instance in group]\n",
    "    todo.append(points)\n",
    "plt.title(\"SolverTime On Instances\")\n",
    "a = plt.boxplot(todo,showfliers=False)\n",
    "plt.ylabel(r\"$Time(s)$\")\n",
    "plt.xlabel(r\"$N$\")\n",
    "_ = plt.xticks([i+1 for i in range(8)],[str(100 + i*200) for i in range(8)])\n",
    "plt.savefig(\"assets/solver_times.png\")\n",
    "    \n"
   ]
  },
  {
   "cell_type": "code",
   "execution_count": 12,
   "metadata": {},
   "outputs": [],
   "source": [
    "matrix = []\n",
    "for instance in instances:\n",
    "    if instance.result[\"Solver_of\"] == -1:\n",
    "        continue\n",
    "    #if instance.result[\"BaldoML_of\"] == -1:\n",
    "    #    continue\n",
    "    sol_of = instance.result[\"Solver_of\"]\n",
    "    sol_time = instance.result[\"Solver_time\"] + 1\n",
    "    gap = lambda instance,x: ((instance.result[\"Solver_of\"]-instance.result[x])/instance.result[\"Solver_of\"])*100\n",
    "    points = []\n",
    "    points.append((gap(instance,f\"BaldoGA_of\"),(instance.result[f\"BaldoGA_time\"])))\n",
    "    points.append((gap(instance,f\"BaldoML_of\"),(instance.result[f\"BaldoML_time\"])))\n",
    "    for i in range(1,2):\n",
    "        threshold = round(0.05*i,3)\n",
    "        points.append((gap(instance,f\"Z_threshold{threshold}_of\"),(instance.result[f\"Z_threshold{threshold}_time\"])))\n",
    "    matrix.append(points)\n",
    "matrix = np.array(matrix)"
   ]
  },
  {
   "cell_type": "code",
   "execution_count": 13,
   "metadata": {},
   "outputs": [
    {
     "name": "stdout",
     "output_type": "stream",
     "text": [
      "Runtime Baldo: 1859.8619830608368\n",
      "Runtime Promedio Baldo: 1.171935717114579\n",
      "Runtime Z: 4611.167855262756\n",
      "Runtime Promedio Z: 2.9055878104995316\n"
     ]
    }
   ],
   "source": [
    "n = len(matrix[:,1,1])\n",
    "#Tiempo total de ejecucion de baldo\n",
    "print(f\"Runtime Baldo: {np.sum(matrix[:,1,1])}\")\n",
    "print(f\"Runtime Promedio Baldo: {np.sum(matrix[:,1,1])/n}\")\n",
    "\n",
    "#Tiempo total de ejecucion de Z\n",
    "print(f\"Runtime Z: {np.sum(matrix[:,2,1])}\")\n",
    "print(f\"Runtime Promedio Z: {np.sum(matrix[:,2,1])/n}\")\n",
    "\n"
   ]
  }
 ],
 "metadata": {
  "kernelspec": {
   "display_name": "Python 3",
   "language": "python",
   "name": "python3"
  },
  "language_info": {
   "codemirror_mode": {
    "name": "ipython",
    "version": 3
   },
   "file_extension": ".py",
   "mimetype": "text/x-python",
   "name": "python",
   "nbconvert_exporter": "python",
   "pygments_lexer": "ipython3",
   "version": "3.11.6"
  }
 },
 "nbformat": 4,
 "nbformat_minor": 2
}
