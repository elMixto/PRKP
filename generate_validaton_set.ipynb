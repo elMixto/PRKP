{
 "cells": [
  {
   "cell_type": "code",
   "execution_count": 1,
   "metadata": {},
   "outputs": [],
   "source": [
    "from src.data_structures import Instance\n",
    "from src.data_structures.features import *\n",
    "import numpy as np\n",
    "from pathlib import Path"
   ]
  },
  {
   "cell_type": "code",
   "execution_count": 2,
   "metadata": {},
   "outputs": [],
   "source": [
    "evaluation_data = Path(\"validation_data\")\n",
    "features: list[ItemBatchFeature] = [\n",
    "            ProfitOverBudget(),\n",
    "            LowerCostOverBudget(),\n",
    "            UpperCostOverBudget(),\n",
    "            IsInContSol(),\n",
    "            IsInOptSol(),\n",
    "            CountPSynergiesOverNItems(),\n",
    "            CountPSynergiesOverBudget(),\n",
    "            GammaOverNItems(),\n",
    "            SumOfSynergiesByItemOverMaxSinergyProfit(),\n",
    "            Noise()\n",
    "            ]"
   ]
  },
  {
   "cell_type": "code",
   "execution_count": 4,
   "metadata": {},
   "outputs": [
    {
     "ename": "TypeError",
     "evalue": "'numpy.float64' object cannot be interpreted as an integer",
     "output_type": "error",
     "traceback": [
      "\u001b[0;31m---------------------------------------------------------------------------\u001b[0m",
      "\u001b[0;31mTypeError\u001b[0m                                 Traceback (most recent call last)",
      "\u001b[1;32m/home/mixto/repositories/PRKP/generate_validaton_set.ipynb Cell 3\u001b[0m line \u001b[0;36m2\n\u001b[1;32m      <a href='vscode-notebook-cell:/home/mixto/repositories/PRKP/generate_validaton_set.ipynb#W2sZmlsZQ%3D%3D?line=0'>1</a>\u001b[0m \u001b[39mfor\u001b[39;00m n \u001b[39min\u001b[39;00m np\u001b[39m.\u001b[39mlinspace(\u001b[39m150\u001b[39m,\u001b[39m2000\u001b[39m,\u001b[39m100\u001b[39m):\n\u001b[0;32m----> <a href='vscode-notebook-cell:/home/mixto/repositories/PRKP/generate_validaton_set.ipynb#W2sZmlsZQ%3D%3D?line=1'>2</a>\u001b[0m     instance \u001b[39m=\u001b[39m Instance\u001b[39m.\u001b[39;49mgenerate(n,\u001b[39mint\u001b[39;49m(np\u001b[39m.\u001b[39;49mrandom\u001b[39m.\u001b[39;49mrandom()\u001b[39m*\u001b[39;49mn\u001b[39m/\u001b[39;49m\u001b[39m2\u001b[39;49m))\n\u001b[1;32m      <a href='vscode-notebook-cell:/home/mixto/repositories/PRKP/generate_validaton_set.ipynb#W2sZmlsZQ%3D%3D?line=2'>3</a>\u001b[0m     \u001b[39mfor\u001b[39;00m feature \u001b[39min\u001b[39;00m features:\n\u001b[1;32m      <a href='vscode-notebook-cell:/home/mixto/repositories/PRKP/generate_validaton_set.ipynb#W2sZmlsZQ%3D%3D?line=3'>4</a>\u001b[0m         instance\u001b[39m.\u001b[39mget_feature(feature)\n",
      "File \u001b[0;32m~/repositories/PRKP/src/data_structures/instance.py:162\u001b[0m, in \u001b[0;36mInstance.generate\u001b[0;34m(cls, n_items, gamma, seed)\u001b[0m\n\u001b[1;32m    160\u001b[0m     random\u001b[39m.\u001b[39mseed(seed)\n\u001b[1;32m    161\u001b[0m     np\u001b[39m.\u001b[39mrandom\u001b[39m.\u001b[39mseed(seed)\n\u001b[0;32m--> 162\u001b[0m matrix_costs \u001b[39m=\u001b[39m np\u001b[39m.\u001b[39;49mzeros((n_items, \u001b[39m2\u001b[39;49m), dtype\u001b[39m=\u001b[39;49m\u001b[39mfloat\u001b[39;49m)\n\u001b[1;32m    163\u001b[0m d \u001b[39m=\u001b[39m [\u001b[39m0.3\u001b[39m, \u001b[39m0.6\u001b[39m, \u001b[39m0.9\u001b[39m]\n\u001b[1;32m    164\u001b[0m \u001b[39mfor\u001b[39;00m i \u001b[39min\u001b[39;00m \u001b[39mrange\u001b[39m(n_items):\n",
      "\u001b[0;31mTypeError\u001b[0m: 'numpy.float64' object cannot be interpreted as an integer"
     ]
    }
   ],
   "source": [
    "for n in np.linspace(150,2000,100):\n",
    "    instance = Instance.generate(n,int((np.random.random()/2)*n))\n",
    "    for feature in features:\n",
    "        instance.get_feature(feature)\n",
    "    instance.save()\n",
    "    "
   ]
  }
 ],
 "metadata": {
  "kernelspec": {
   "display_name": "Python 3",
   "language": "python",
   "name": "python3"
  },
  "language_info": {
   "codemirror_mode": {
    "name": "ipython",
    "version": 3
   },
   "file_extension": ".py",
   "mimetype": "text/x-python",
   "name": "python",
   "nbconvert_exporter": "python",
   "pygments_lexer": "ipython3",
   "version": "3.11.5"
  }
 },
 "nbformat": 4,
 "nbformat_minor": 2
}
